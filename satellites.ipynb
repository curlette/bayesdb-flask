{
 "cells": [
  {
   "cell_type": "code",
   "execution_count": 1,
   "metadata": {
    "collapsed": false
   },
   "outputs": [
    {
     "name": "stderr",
     "output_type": "stream",
     "text": [
      "/scratch/curlette/.pyenv/local/lib/python2.7/site-packages/matplotlib/font_manager.py:273: UserWarning: Matplotlib is building the font cache using fc-list. This may take a moment.\n",
      "  warnings.warn('Matplotlib is building the font cache using fc-list. This may take a moment.')\n"
     ]
    },
    {
     "name": "stdout",
     "output_type": "stream",
     "text": [
      "session_id: curlette_2017-06-08T12:58:46.432613_1\n"
     ]
    }
   ],
   "source": [
    "import bayeslite\n",
    "\n",
    "%load_ext iventure.magics\n",
    "%matplotlib inline"
   ]
  },
  {
   "cell_type": "code",
   "execution_count": 2,
   "metadata": {
    "collapsed": false
   },
   "outputs": [
    {
     "data": {
      "text/plain": [
       "u'Loaded: satellites.bdb'"
      ]
     },
     "execution_count": 2,
     "metadata": {},
     "output_type": "execute_result"
    }
   ],
   "source": [
    "%bayesdb -j satellites.bdb"
   ]
  },
  {
   "cell_type": "code",
   "execution_count": 5,
   "metadata": {
    "collapsed": false
   },
   "outputs": [
    {
     "data": {
      "text/html": [
       "<div>\n",
       "<table border=\"1\" class=\"dataframe\">\n",
       "  <thead>\n",
       "    <tr style=\"text-align: right;\">\n",
       "      <th></th>\n",
       "    </tr>\n",
       "  </thead>\n",
       "  <tbody>\n",
       "  </tbody>\n",
       "</table>\n",
       "</div>"
      ],
      "text/plain": [
       "Empty DataFrame\n",
       "Columns: []\n",
       "Index: []"
      ]
     },
     "execution_count": 5,
     "metadata": {},
     "output_type": "execute_result"
    }
   ],
   "source": [
    "%%bql\n",
    "CREATE TABLE satellites_t FROM 'satellites_train.csv'"
   ]
  },
  {
   "cell_type": "code",
   "execution_count": 6,
   "metadata": {
    "collapsed": false
   },
   "outputs": [
    {
     "name": "stdout",
     "output_type": "stream",
     "text": [
      "Nullified 0 cells\n"
     ]
    }
   ],
   "source": [
    "%bql .nullify satellites_t ''"
   ]
  },
  {
   "cell_type": "code",
   "execution_count": 9,
   "metadata": {
    "collapsed": false
   },
   "outputs": [
    {
     "name": "stdout",
     "output_type": "stream",
     "text": [
      "Nullified 1768 cells\n"
     ]
    }
   ],
   "source": [
    "%bql .nullify satellites_t 'NaN'"
   ]
  },
  {
   "cell_type": "code",
   "execution_count": 10,
   "metadata": {
    "collapsed": false
   },
   "outputs": [
    {
     "data": {
      "text/html": [
       "<div>\n",
       "<table border=\"1\" class=\"dataframe\">\n",
       "  <thead>\n",
       "    <tr style=\"text-align: right;\">\n",
       "      <th></th>\n",
       "      <th>Name</th>\n",
       "      <th>Country_of_Operator</th>\n",
       "      <th>Operator_Owner</th>\n",
       "      <th>Users</th>\n",
       "      <th>Purpose</th>\n",
       "      <th>Class_of_Orbit</th>\n",
       "      <th>Type_of_Orbit</th>\n",
       "      <th>Perigee_km</th>\n",
       "      <th>Apogee_km</th>\n",
       "      <th>Eccentricity</th>\n",
       "      <th>...</th>\n",
       "      <th>Power_watts</th>\n",
       "      <th>Date_of_Launch</th>\n",
       "      <th>Anticipated_Lifetime</th>\n",
       "      <th>Contractor</th>\n",
       "      <th>Country_of_Contractor</th>\n",
       "      <th>Launch_Site</th>\n",
       "      <th>Launch_Vehicle</th>\n",
       "      <th>Source_Used_for_Orbital_Data</th>\n",
       "      <th>longitude_radians_of_geo</th>\n",
       "      <th>Inclination_radians</th>\n",
       "    </tr>\n",
       "  </thead>\n",
       "  <tbody>\n",
       "    <tr>\n",
       "      <th>0</th>\n",
       "      <td>AAUSat-3</td>\n",
       "      <td>Denmark</td>\n",
       "      <td>Aalborg University</td>\n",
       "      <td>Civil</td>\n",
       "      <td>Technology Development</td>\n",
       "      <td>LEO</td>\n",
       "      <td>None</td>\n",
       "      <td>770.0</td>\n",
       "      <td>787.0</td>\n",
       "      <td>0.00119</td>\n",
       "      <td>...</td>\n",
       "      <td>NaN</td>\n",
       "      <td>41330.0</td>\n",
       "      <td>1.0</td>\n",
       "      <td>Aalborg University</td>\n",
       "      <td>Denmark</td>\n",
       "      <td>Satish Dhawan Space Center</td>\n",
       "      <td>PSLV</td>\n",
       "      <td>SC - ASCR</td>\n",
       "      <td>NaN</td>\n",
       "      <td>1.721418</td>\n",
       "    </tr>\n",
       "    <tr>\n",
       "      <th>1</th>\n",
       "      <td>ABS-1 (LMI-1, Lockheed Martin-Intersputnik-1)</td>\n",
       "      <td>International</td>\n",
       "      <td>Asia Broadcasting Satellite</td>\n",
       "      <td>Commercial</td>\n",
       "      <td>Communications</td>\n",
       "      <td>GEO</td>\n",
       "      <td>None</td>\n",
       "      <td>35777.0</td>\n",
       "      <td>35794.0</td>\n",
       "      <td>0.00020</td>\n",
       "      <td>...</td>\n",
       "      <td>6800.0</td>\n",
       "      <td>36429.0</td>\n",
       "      <td>15.0</td>\n",
       "      <td>Lockheed Martin</td>\n",
       "      <td>USA</td>\n",
       "      <td>Baikonur Cosmodrome</td>\n",
       "      <td>Proton</td>\n",
       "      <td>JM/12_08</td>\n",
       "      <td>1.309521</td>\n",
       "      <td>0.000175</td>\n",
       "    </tr>\n",
       "    <tr>\n",
       "      <th>2</th>\n",
       "      <td>ABS-1A (Koreasat 2, Mugunghwa 2, ABS-1A)</td>\n",
       "      <td>International</td>\n",
       "      <td>Asia Broadcasting Satellite</td>\n",
       "      <td>Commercial</td>\n",
       "      <td>Communications</td>\n",
       "      <td>GEO</td>\n",
       "      <td>None</td>\n",
       "      <td>35785.0</td>\n",
       "      <td>35789.0</td>\n",
       "      <td>0.00005</td>\n",
       "      <td>...</td>\n",
       "      <td>1600.0</td>\n",
       "      <td>35078.0</td>\n",
       "      <td>10.0</td>\n",
       "      <td>Lockheed Martin Astro Space</td>\n",
       "      <td>USA</td>\n",
       "      <td>Cape Canaveral</td>\n",
       "      <td>Delta 2</td>\n",
       "      <td>JM/12_08</td>\n",
       "      <td>2.034007</td>\n",
       "      <td>0.032463</td>\n",
       "    </tr>\n",
       "    <tr>\n",
       "      <th>3</th>\n",
       "      <td>ABS-2i (MBSat, Mobile Broadcasting Satellite, ...</td>\n",
       "      <td>China (PR)</td>\n",
       "      <td>Asia Broadcasting Satellite</td>\n",
       "      <td>Commercial</td>\n",
       "      <td>Communications</td>\n",
       "      <td>GEO</td>\n",
       "      <td>None</td>\n",
       "      <td>35780.0</td>\n",
       "      <td>35793.0</td>\n",
       "      <td>0.00015</td>\n",
       "      <td>...</td>\n",
       "      <td>7400.0</td>\n",
       "      <td>38059.0</td>\n",
       "      <td>12.0</td>\n",
       "      <td>Space Systems/Loral</td>\n",
       "      <td>USA</td>\n",
       "      <td>Cape Canaveral</td>\n",
       "      <td>Atlas 3</td>\n",
       "      <td>JM/12_08</td>\n",
       "      <td>1.308997</td>\n",
       "      <td>0.000175</td>\n",
       "    </tr>\n",
       "    <tr>\n",
       "      <th>4</th>\n",
       "      <td>ABS-7 (Koreasat 3, Mugungwha 3)</td>\n",
       "      <td>International</td>\n",
       "      <td>Asia Broadcast Satellite</td>\n",
       "      <td>Commercial</td>\n",
       "      <td>Communications</td>\n",
       "      <td>GEO</td>\n",
       "      <td>None</td>\n",
       "      <td>35780.0</td>\n",
       "      <td>35791.0</td>\n",
       "      <td>0.00013</td>\n",
       "      <td>...</td>\n",
       "      <td>4800.0</td>\n",
       "      <td>36407.0</td>\n",
       "      <td>15.0</td>\n",
       "      <td>Lockheed Martin Astro Space</td>\n",
       "      <td>USA</td>\n",
       "      <td>Guiana Space Center</td>\n",
       "      <td>Ariane</td>\n",
       "      <td>JM/12_08</td>\n",
       "      <td>2.027724</td>\n",
       "      <td>0.000175</td>\n",
       "    </tr>\n",
       "    <tr>\n",
       "      <th>5</th>\n",
       "      <td>AcrimSat (Active Cavity Radiometer Irradiance ...</td>\n",
       "      <td>USA</td>\n",
       "      <td>NASA Goddard Space Flight Center, Jet Propulsi...</td>\n",
       "      <td>Government</td>\n",
       "      <td>Solar Physics</td>\n",
       "      <td>LEO</td>\n",
       "      <td>Sun-Synchronous</td>\n",
       "      <td>670.0</td>\n",
       "      <td>710.0</td>\n",
       "      <td>0.00283</td>\n",
       "      <td>...</td>\n",
       "      <td>10.0</td>\n",
       "      <td>36515.0</td>\n",
       "      <td>5.0</td>\n",
       "      <td>Orbital Sciences Corp.</td>\n",
       "      <td>USA</td>\n",
       "      <td>Vandenberg AFB</td>\n",
       "      <td>Taurus</td>\n",
       "      <td>www.satellitedebris.net 12/12</td>\n",
       "      <td>NaN</td>\n",
       "      <td>1.706932</td>\n",
       "    </tr>\n",
       "    <tr>\n",
       "      <th>6</th>\n",
       "      <td>Advanced Orion 2 (NROL 6, USA 139)</td>\n",
       "      <td>USA</td>\n",
       "      <td>National Reconnaissance Office (NRO)</td>\n",
       "      <td>Military</td>\n",
       "      <td>Electronic Surveillance</td>\n",
       "      <td>GEO</td>\n",
       "      <td>None</td>\n",
       "      <td>35560.0</td>\n",
       "      <td>36013.0</td>\n",
       "      <td>0.00537</td>\n",
       "      <td>...</td>\n",
       "      <td>NaN</td>\n",
       "      <td>35924.0</td>\n",
       "      <td>NaN</td>\n",
       "      <td>TRW Space and Electronics</td>\n",
       "      <td>USA</td>\n",
       "      <td>Cape Canaveral</td>\n",
       "      <td>Titan IVA</td>\n",
       "      <td>JM/12_08</td>\n",
       "      <td>-0.253073</td>\n",
       "      <td>0.134739</td>\n",
       "    </tr>\n",
       "    <tr>\n",
       "      <th>7</th>\n",
       "      <td>Advanced Orion 3 (NROL 19, USA 171)</td>\n",
       "      <td>USA</td>\n",
       "      <td>National Reconnaissance Office (NRO)</td>\n",
       "      <td>Military</td>\n",
       "      <td>Electronic Surveillance</td>\n",
       "      <td>GEO</td>\n",
       "      <td>None</td>\n",
       "      <td>35589.0</td>\n",
       "      <td>35984.0</td>\n",
       "      <td>0.00468</td>\n",
       "      <td>...</td>\n",
       "      <td>NaN</td>\n",
       "      <td>37873.0</td>\n",
       "      <td>NaN</td>\n",
       "      <td>TRW Space and Electronics</td>\n",
       "      <td>USA</td>\n",
       "      <td>Cape Canaveral</td>\n",
       "      <td>Titan IV</td>\n",
       "      <td>JM/12_08</td>\n",
       "      <td>1.665044</td>\n",
       "      <td>0.055851</td>\n",
       "    </tr>\n",
       "    <tr>\n",
       "      <th>8</th>\n",
       "      <td>Advanced Orion 4 (NRO L-26, USA 202)</td>\n",
       "      <td>USA</td>\n",
       "      <td>National Reconnaissance Office (NRO)</td>\n",
       "      <td>Military</td>\n",
       "      <td>Electronic Surveillance</td>\n",
       "      <td>GEO</td>\n",
       "      <td>None</td>\n",
       "      <td>35714.0</td>\n",
       "      <td>35937.0</td>\n",
       "      <td>0.00264</td>\n",
       "      <td>...</td>\n",
       "      <td>NaN</td>\n",
       "      <td>39831.0</td>\n",
       "      <td>NaN</td>\n",
       "      <td>National Reconnaissance Laboratory (?)</td>\n",
       "      <td>USA</td>\n",
       "      <td>Cape Canaveral</td>\n",
       "      <td>Delta 4 Heavy</td>\n",
       "      <td>SC - ASCR</td>\n",
       "      <td>0.767945</td>\n",
       "      <td>0.050440</td>\n",
       "    </tr>\n",
       "    <tr>\n",
       "      <th>9</th>\n",
       "      <td>Advanced Orion 5 (NRO L-32, USA 223)</td>\n",
       "      <td>USA</td>\n",
       "      <td>National Reconnaissance Office (NRO)</td>\n",
       "      <td>Military</td>\n",
       "      <td>Electronic Surveillance</td>\n",
       "      <td>GEO</td>\n",
       "      <td>None</td>\n",
       "      <td>35500.0</td>\n",
       "      <td>35500.0</td>\n",
       "      <td>0.00000</td>\n",
       "      <td>...</td>\n",
       "      <td>NaN</td>\n",
       "      <td>40503.0</td>\n",
       "      <td>NaN</td>\n",
       "      <td>National Reconnaissance Laboratory (?)</td>\n",
       "      <td>USA</td>\n",
       "      <td>Cape Canaveral</td>\n",
       "      <td>Delta 4 Heavy</td>\n",
       "      <td>SC - ASCR</td>\n",
       "      <td>1.761037</td>\n",
       "      <td>0.000000</td>\n",
       "    </tr>\n",
       "  </tbody>\n",
       "</table>\n",
       "<p>10 rows × 23 columns</p>\n",
       "</div>"
      ],
      "text/plain": [
       "                                                Name Country_of_Operator  \\\n",
       "0                                           AAUSat-3             Denmark   \n",
       "1      ABS-1 (LMI-1, Lockheed Martin-Intersputnik-1)       International   \n",
       "2           ABS-1A (Koreasat 2, Mugunghwa 2, ABS-1A)       International   \n",
       "3  ABS-2i (MBSat, Mobile Broadcasting Satellite, ...          China (PR)   \n",
       "4                    ABS-7 (Koreasat 3, Mugungwha 3)       International   \n",
       "5  AcrimSat (Active Cavity Radiometer Irradiance ...                 USA   \n",
       "6                 Advanced Orion 2 (NROL 6, USA 139)                 USA   \n",
       "7                Advanced Orion 3 (NROL 19, USA 171)                 USA   \n",
       "8               Advanced Orion 4 (NRO L-26, USA 202)                 USA   \n",
       "9               Advanced Orion 5 (NRO L-32, USA 223)                 USA   \n",
       "\n",
       "                                      Operator_Owner       Users  \\\n",
       "0                                 Aalborg University       Civil   \n",
       "1                        Asia Broadcasting Satellite  Commercial   \n",
       "2                        Asia Broadcasting Satellite  Commercial   \n",
       "3                        Asia Broadcasting Satellite  Commercial   \n",
       "4                           Asia Broadcast Satellite  Commercial   \n",
       "5  NASA Goddard Space Flight Center, Jet Propulsi...  Government   \n",
       "6               National Reconnaissance Office (NRO)    Military   \n",
       "7               National Reconnaissance Office (NRO)    Military   \n",
       "8               National Reconnaissance Office (NRO)    Military   \n",
       "9               National Reconnaissance Office (NRO)    Military   \n",
       "\n",
       "                   Purpose Class_of_Orbit    Type_of_Orbit  Perigee_km  \\\n",
       "0   Technology Development            LEO             None       770.0   \n",
       "1           Communications            GEO             None     35777.0   \n",
       "2           Communications            GEO             None     35785.0   \n",
       "3           Communications            GEO             None     35780.0   \n",
       "4           Communications            GEO             None     35780.0   \n",
       "5            Solar Physics            LEO  Sun-Synchronous       670.0   \n",
       "6  Electronic Surveillance            GEO             None     35560.0   \n",
       "7  Electronic Surveillance            GEO             None     35589.0   \n",
       "8  Electronic Surveillance            GEO             None     35714.0   \n",
       "9  Electronic Surveillance            GEO             None     35500.0   \n",
       "\n",
       "   Apogee_km  Eccentricity         ...          Power_watts  Date_of_Launch  \\\n",
       "0      787.0       0.00119         ...                  NaN         41330.0   \n",
       "1    35794.0       0.00020         ...               6800.0         36429.0   \n",
       "2    35789.0       0.00005         ...               1600.0         35078.0   \n",
       "3    35793.0       0.00015         ...               7400.0         38059.0   \n",
       "4    35791.0       0.00013         ...               4800.0         36407.0   \n",
       "5      710.0       0.00283         ...                 10.0         36515.0   \n",
       "6    36013.0       0.00537         ...                  NaN         35924.0   \n",
       "7    35984.0       0.00468         ...                  NaN         37873.0   \n",
       "8    35937.0       0.00264         ...                  NaN         39831.0   \n",
       "9    35500.0       0.00000         ...                  NaN         40503.0   \n",
       "\n",
       "   Anticipated_Lifetime                              Contractor  \\\n",
       "0                   1.0                      Aalborg University   \n",
       "1                  15.0                         Lockheed Martin   \n",
       "2                  10.0             Lockheed Martin Astro Space   \n",
       "3                  12.0                     Space Systems/Loral   \n",
       "4                  15.0             Lockheed Martin Astro Space   \n",
       "5                   5.0                  Orbital Sciences Corp.   \n",
       "6                   NaN               TRW Space and Electronics   \n",
       "7                   NaN               TRW Space and Electronics   \n",
       "8                   NaN  National Reconnaissance Laboratory (?)   \n",
       "9                   NaN  National Reconnaissance Laboratory (?)   \n",
       "\n",
       "   Country_of_Contractor                 Launch_Site Launch_Vehicle  \\\n",
       "0                Denmark  Satish Dhawan Space Center           PSLV   \n",
       "1                    USA         Baikonur Cosmodrome         Proton   \n",
       "2                    USA              Cape Canaveral        Delta 2   \n",
       "3                    USA              Cape Canaveral        Atlas 3   \n",
       "4                    USA         Guiana Space Center         Ariane   \n",
       "5                    USA              Vandenberg AFB         Taurus   \n",
       "6                    USA              Cape Canaveral      Titan IVA   \n",
       "7                    USA              Cape Canaveral       Titan IV   \n",
       "8                    USA              Cape Canaveral  Delta 4 Heavy   \n",
       "9                    USA              Cape Canaveral  Delta 4 Heavy   \n",
       "\n",
       "    Source_Used_for_Orbital_Data longitude_radians_of_geo Inclination_radians  \n",
       "0                      SC - ASCR                      NaN            1.721418  \n",
       "1                       JM/12_08                 1.309521            0.000175  \n",
       "2                       JM/12_08                 2.034007            0.032463  \n",
       "3                       JM/12_08                 1.308997            0.000175  \n",
       "4                       JM/12_08                 2.027724            0.000175  \n",
       "5  www.satellitedebris.net 12/12                      NaN            1.706932  \n",
       "6                       JM/12_08                -0.253073            0.134739  \n",
       "7                       JM/12_08                 1.665044            0.055851  \n",
       "8                      SC - ASCR                 0.767945            0.050440  \n",
       "9                      SC - ASCR                 1.761037            0.000000  \n",
       "\n",
       "[10 rows x 23 columns]"
      ]
     },
     "execution_count": 10,
     "metadata": {},
     "output_type": "execute_result"
    }
   ],
   "source": [
    "%bql SELECT * FROM satellites_t LIMIT 10"
   ]
  },
  {
   "cell_type": "code",
   "execution_count": 11,
   "metadata": {
    "collapsed": false
   },
   "outputs": [
    {
     "data": {
      "text/html": [
       "<div>\n",
       "<table border=\"1\" class=\"dataframe\">\n",
       "  <thead>\n",
       "    <tr style=\"text-align: right;\">\n",
       "      <th></th>\n",
       "    </tr>\n",
       "  </thead>\n",
       "  <tbody>\n",
       "  </tbody>\n",
       "</table>\n",
       "</div>"
      ],
      "text/plain": [
       "Empty DataFrame\n",
       "Columns: []\n",
       "Index: []"
      ]
     },
     "execution_count": 11,
     "metadata": {},
     "output_type": "execute_result"
    }
   ],
   "source": [
    "%%mml\n",
    "CREATE POPULATION satellites_p FOR satellites_t WITH SCHEMA (\n",
    "     GUESS (*)\n",
    ");"
   ]
  },
  {
   "cell_type": "code",
   "execution_count": 12,
   "metadata": {
    "collapsed": false
   },
   "outputs": [
    {
     "data": {
      "text/html": [
       "<div>\n",
       "<table border=\"1\" class=\"dataframe\">\n",
       "  <thead>\n",
       "    <tr style=\"text-align: right;\">\n",
       "      <th></th>\n",
       "    </tr>\n",
       "  </thead>\n",
       "  <tbody>\n",
       "  </tbody>\n",
       "</table>\n",
       "</div>"
      ],
      "text/plain": [
       "Empty DataFrame\n",
       "Columns: []\n",
       "Index: []"
      ]
     },
     "execution_count": 12,
     "metadata": {},
     "output_type": "execute_result"
    }
   ],
   "source": [
    "%%mml\n",
    "CREATE METAMODEL satellites_m FOR satellites_p WITH BASELINE crosscat();"
   ]
  },
  {
   "cell_type": "code",
   "execution_count": 13,
   "metadata": {
    "collapsed": false
   },
   "outputs": [
    {
     "data": {
      "text/html": [
       "<div>\n",
       "<table border=\"1\" class=\"dataframe\">\n",
       "  <thead>\n",
       "    <tr style=\"text-align: right;\">\n",
       "      <th></th>\n",
       "    </tr>\n",
       "  </thead>\n",
       "  <tbody>\n",
       "  </tbody>\n",
       "</table>\n",
       "</div>"
      ],
      "text/plain": [
       "Empty DataFrame\n",
       "Columns: []\n",
       "Index: []"
      ]
     },
     "execution_count": 13,
     "metadata": {},
     "output_type": "execute_result"
    }
   ],
   "source": [
    "%%mml\n",
    "INITIALIZE 1 MODEL FOR satellites_m;"
   ]
  },
  {
   "cell_type": "code",
   "execution_count": 15,
   "metadata": {
    "collapsed": false
   },
   "outputs": [
    {
     "name": "stdout",
     "output_type": "stream",
     "text": [
      "Completed: 90 iterations in 28.049129 seconds.\n"
     ]
    },
    {
     "data": {
      "text/html": [
       "<div>\n",
       "<table border=\"1\" class=\"dataframe\">\n",
       "  <thead>\n",
       "    <tr style=\"text-align: right;\">\n",
       "      <th></th>\n",
       "    </tr>\n",
       "  </thead>\n",
       "  <tbody>\n",
       "  </tbody>\n",
       "</table>\n",
       "</div>"
      ],
      "text/plain": [
       "Empty DataFrame\n",
       "Columns: []\n",
       "Index: []"
      ]
     },
     "execution_count": 15,
     "metadata": {},
     "output_type": "execute_result"
    }
   ],
   "source": [
    "%%mml\n",
    "ANALYZE satellites_m FOR 90 ITERATIONS WAIT( OPTIMIZED );"
   ]
  },
  {
   "cell_type": "code",
   "execution_count": 6,
   "metadata": {
    "collapsed": false
   },
   "outputs": [],
   "source": [
    "df = %bql ESTIMATE PREDICTIVE PROBABILITY OF Apogee_km AS pred_prob FROM satellites_p WHERE satellites_t.rowid < 5"
   ]
  },
  {
   "cell_type": "code",
   "execution_count": 9,
   "metadata": {
    "collapsed": false
   },
   "outputs": [
    {
     "data": {
      "text/plain": [
       "[5.2025984830776043e-05,\n",
       " 5.9715133916020437e-05,\n",
       " 5.9713419741455429e-05,\n",
       " 5.9714806704613264e-05]"
      ]
     },
     "execution_count": 9,
     "metadata": {},
     "output_type": "execute_result"
    }
   ],
   "source": [
    "df.loc[:, \"pred_prob\"].tolist()"
   ]
  },
  {
   "cell_type": "code",
   "execution_count": 4,
   "metadata": {
    "collapsed": false
   },
   "outputs": [],
   "source": [
    "nr = %sql SELECT COUNT(*) FROM satellites_t"
   ]
  },
  {
   "cell_type": "code",
   "execution_count": 5,
   "metadata": {
    "collapsed": false
   },
   "outputs": [
    {
     "data": {
      "text/plain": [
       "778.0"
      ]
     },
     "execution_count": 5,
     "metadata": {},
     "output_type": "execute_result"
    }
   ],
   "source": [
    "nr.iloc[0,0]"
   ]
  },
  {
   "cell_type": "code",
   "execution_count": null,
   "metadata": {
    "collapsed": true
   },
   "outputs": [],
   "source": []
  }
 ],
 "metadata": {
  "kernelspec": {
   "display_name": "Python 2",
   "language": "python",
   "name": "python2"
  },
  "language_info": {
   "codemirror_mode": {
    "name": "ipython",
    "version": 2
   },
   "file_extension": ".py",
   "mimetype": "text/x-python",
   "name": "python",
   "nbconvert_exporter": "python",
   "pygments_lexer": "ipython2",
   "version": "2.7.6"
  }
 },
 "nbformat": 4,
 "nbformat_minor": 0
}
